{
 "cells": [
  {
   "cell_type": "markdown",
   "id": "8cc6771f",
   "metadata": {
    "papermill": {
     "duration": 0.007209,
     "end_time": "2025-04-28T11:42:25.017761",
     "exception": false,
     "start_time": "2025-04-28T11:42:25.010552",
     "status": "completed"
    },
    "tags": []
   },
   "source": [
    "# ****Import data****"
   ]
  },
  {
   "cell_type": "code",
   "execution_count": 1,
   "id": "45dd902c",
   "metadata": {
    "execution": {
     "iopub.execute_input": "2025-04-28T11:42:25.031776Z",
     "iopub.status.busy": "2025-04-28T11:42:25.031213Z",
     "iopub.status.idle": "2025-04-28T11:42:29.044618Z",
     "shell.execute_reply": "2025-04-28T11:42:29.043461Z"
    },
    "papermill": {
     "duration": 4.022427,
     "end_time": "2025-04-28T11:42:29.046529",
     "exception": false,
     "start_time": "2025-04-28T11:42:25.024102",
     "status": "completed"
    },
    "tags": []
   },
   "outputs": [],
   "source": [
    "import pandas as pd\n",
    "import numpy as np\n",
    "import seaborn as sns\n",
    "import matplotlib.pyplot as plt\n",
    "import warnings\n",
    "\n",
    "\n",
    "warnings.filterwarnings(\"ignore\")\n",
    "\n",
    "\n",
    "df = pd.read_csv(\"/kaggle/input/cafe-sales-dirty-data-for-cleaning-training/dirty_cafe_sales.csv\")"
   ]
  },
  {
   "cell_type": "code",
   "execution_count": 2,
   "id": "82a77bf9",
   "metadata": {
    "execution": {
     "iopub.execute_input": "2025-04-28T11:42:29.060632Z",
     "iopub.status.busy": "2025-04-28T11:42:29.060324Z",
     "iopub.status.idle": "2025-04-28T11:42:29.087747Z",
     "shell.execute_reply": "2025-04-28T11:42:29.086891Z"
    },
    "papermill": {
     "duration": 0.036183,
     "end_time": "2025-04-28T11:42:29.089856",
     "exception": false,
     "start_time": "2025-04-28T11:42:29.053673",
     "status": "completed"
    },
    "tags": []
   },
   "outputs": [
    {
     "data": {
      "text/html": [
       "<div>\n",
       "<style scoped>\n",
       "    .dataframe tbody tr th:only-of-type {\n",
       "        vertical-align: middle;\n",
       "    }\n",
       "\n",
       "    .dataframe tbody tr th {\n",
       "        vertical-align: top;\n",
       "    }\n",
       "\n",
       "    .dataframe thead th {\n",
       "        text-align: right;\n",
       "    }\n",
       "</style>\n",
       "<table border=\"1\" class=\"dataframe\">\n",
       "  <thead>\n",
       "    <tr style=\"text-align: right;\">\n",
       "      <th></th>\n",
       "      <th>Transaction ID</th>\n",
       "      <th>Item</th>\n",
       "      <th>Quantity</th>\n",
       "      <th>Price Per Unit</th>\n",
       "      <th>Total Spent</th>\n",
       "      <th>Payment Method</th>\n",
       "      <th>Location</th>\n",
       "      <th>Transaction Date</th>\n",
       "    </tr>\n",
       "  </thead>\n",
       "  <tbody>\n",
       "    <tr>\n",
       "      <th>0</th>\n",
       "      <td>TXN_1961373</td>\n",
       "      <td>Coffee</td>\n",
       "      <td>2</td>\n",
       "      <td>2.0</td>\n",
       "      <td>4.0</td>\n",
       "      <td>Credit Card</td>\n",
       "      <td>Takeaway</td>\n",
       "      <td>2023-09-08</td>\n",
       "    </tr>\n",
       "    <tr>\n",
       "      <th>1</th>\n",
       "      <td>TXN_4977031</td>\n",
       "      <td>Cake</td>\n",
       "      <td>4</td>\n",
       "      <td>3.0</td>\n",
       "      <td>12.0</td>\n",
       "      <td>Cash</td>\n",
       "      <td>In-store</td>\n",
       "      <td>2023-05-16</td>\n",
       "    </tr>\n",
       "    <tr>\n",
       "      <th>2</th>\n",
       "      <td>TXN_4271903</td>\n",
       "      <td>Cookie</td>\n",
       "      <td>4</td>\n",
       "      <td>1.0</td>\n",
       "      <td>ERROR</td>\n",
       "      <td>Credit Card</td>\n",
       "      <td>In-store</td>\n",
       "      <td>2023-07-19</td>\n",
       "    </tr>\n",
       "    <tr>\n",
       "      <th>3</th>\n",
       "      <td>TXN_7034554</td>\n",
       "      <td>Salad</td>\n",
       "      <td>2</td>\n",
       "      <td>5.0</td>\n",
       "      <td>10.0</td>\n",
       "      <td>UNKNOWN</td>\n",
       "      <td>UNKNOWN</td>\n",
       "      <td>2023-04-27</td>\n",
       "    </tr>\n",
       "    <tr>\n",
       "      <th>4</th>\n",
       "      <td>TXN_3160411</td>\n",
       "      <td>Coffee</td>\n",
       "      <td>2</td>\n",
       "      <td>2.0</td>\n",
       "      <td>4.0</td>\n",
       "      <td>Digital Wallet</td>\n",
       "      <td>In-store</td>\n",
       "      <td>2023-06-11</td>\n",
       "    </tr>\n",
       "  </tbody>\n",
       "</table>\n",
       "</div>"
      ],
      "text/plain": [
       "  Transaction ID    Item Quantity Price Per Unit Total Spent  Payment Method  \\\n",
       "0    TXN_1961373  Coffee        2            2.0         4.0     Credit Card   \n",
       "1    TXN_4977031    Cake        4            3.0        12.0            Cash   \n",
       "2    TXN_4271903  Cookie        4            1.0       ERROR     Credit Card   \n",
       "3    TXN_7034554   Salad        2            5.0        10.0         UNKNOWN   \n",
       "4    TXN_3160411  Coffee        2            2.0         4.0  Digital Wallet   \n",
       "\n",
       "   Location Transaction Date  \n",
       "0  Takeaway       2023-09-08  \n",
       "1  In-store       2023-05-16  \n",
       "2  In-store       2023-07-19  \n",
       "3   UNKNOWN       2023-04-27  \n",
       "4  In-store       2023-06-11  "
      ]
     },
     "execution_count": 2,
     "metadata": {},
     "output_type": "execute_result"
    }
   ],
   "source": [
    "df.head()"
   ]
  },
  {
   "cell_type": "code",
   "execution_count": 3,
   "id": "c88e9742",
   "metadata": {
    "execution": {
     "iopub.execute_input": "2025-04-28T11:42:29.104119Z",
     "iopub.status.busy": "2025-04-28T11:42:29.103690Z",
     "iopub.status.idle": "2025-04-28T11:42:29.118226Z",
     "shell.execute_reply": "2025-04-28T11:42:29.117244Z"
    },
    "papermill": {
     "duration": 0.023471,
     "end_time": "2025-04-28T11:42:29.119845",
     "exception": false,
     "start_time": "2025-04-28T11:42:29.096374",
     "status": "completed"
    },
    "tags": []
   },
   "outputs": [
    {
     "data": {
      "text/html": [
       "<div>\n",
       "<style scoped>\n",
       "    .dataframe tbody tr th:only-of-type {\n",
       "        vertical-align: middle;\n",
       "    }\n",
       "\n",
       "    .dataframe tbody tr th {\n",
       "        vertical-align: top;\n",
       "    }\n",
       "\n",
       "    .dataframe thead th {\n",
       "        text-align: right;\n",
       "    }\n",
       "</style>\n",
       "<table border=\"1\" class=\"dataframe\">\n",
       "  <thead>\n",
       "    <tr style=\"text-align: right;\">\n",
       "      <th></th>\n",
       "      <th>Transaction ID</th>\n",
       "      <th>Item</th>\n",
       "      <th>Quantity</th>\n",
       "      <th>Price Per Unit</th>\n",
       "      <th>Total Spent</th>\n",
       "      <th>Payment Method</th>\n",
       "      <th>Location</th>\n",
       "      <th>Transaction Date</th>\n",
       "    </tr>\n",
       "  </thead>\n",
       "  <tbody>\n",
       "    <tr>\n",
       "      <th>9995</th>\n",
       "      <td>TXN_7672686</td>\n",
       "      <td>Coffee</td>\n",
       "      <td>2</td>\n",
       "      <td>2.0</td>\n",
       "      <td>4.0</td>\n",
       "      <td>NaN</td>\n",
       "      <td>UNKNOWN</td>\n",
       "      <td>2023-08-30</td>\n",
       "    </tr>\n",
       "    <tr>\n",
       "      <th>9996</th>\n",
       "      <td>TXN_9659401</td>\n",
       "      <td>NaN</td>\n",
       "      <td>3</td>\n",
       "      <td>NaN</td>\n",
       "      <td>3.0</td>\n",
       "      <td>Digital Wallet</td>\n",
       "      <td>NaN</td>\n",
       "      <td>2023-06-02</td>\n",
       "    </tr>\n",
       "    <tr>\n",
       "      <th>9997</th>\n",
       "      <td>TXN_5255387</td>\n",
       "      <td>Coffee</td>\n",
       "      <td>4</td>\n",
       "      <td>2.0</td>\n",
       "      <td>8.0</td>\n",
       "      <td>Digital Wallet</td>\n",
       "      <td>NaN</td>\n",
       "      <td>2023-03-02</td>\n",
       "    </tr>\n",
       "    <tr>\n",
       "      <th>9998</th>\n",
       "      <td>TXN_7695629</td>\n",
       "      <td>Cookie</td>\n",
       "      <td>3</td>\n",
       "      <td>NaN</td>\n",
       "      <td>3.0</td>\n",
       "      <td>Digital Wallet</td>\n",
       "      <td>NaN</td>\n",
       "      <td>2023-12-02</td>\n",
       "    </tr>\n",
       "    <tr>\n",
       "      <th>9999</th>\n",
       "      <td>TXN_6170729</td>\n",
       "      <td>Sandwich</td>\n",
       "      <td>3</td>\n",
       "      <td>4.0</td>\n",
       "      <td>12.0</td>\n",
       "      <td>Cash</td>\n",
       "      <td>In-store</td>\n",
       "      <td>2023-11-07</td>\n",
       "    </tr>\n",
       "  </tbody>\n",
       "</table>\n",
       "</div>"
      ],
      "text/plain": [
       "     Transaction ID      Item Quantity Price Per Unit Total Spent  \\\n",
       "9995    TXN_7672686    Coffee        2            2.0         4.0   \n",
       "9996    TXN_9659401       NaN        3            NaN         3.0   \n",
       "9997    TXN_5255387    Coffee        4            2.0         8.0   \n",
       "9998    TXN_7695629    Cookie        3            NaN         3.0   \n",
       "9999    TXN_6170729  Sandwich        3            4.0        12.0   \n",
       "\n",
       "      Payment Method  Location Transaction Date  \n",
       "9995             NaN   UNKNOWN       2023-08-30  \n",
       "9996  Digital Wallet       NaN       2023-06-02  \n",
       "9997  Digital Wallet       NaN       2023-03-02  \n",
       "9998  Digital Wallet       NaN       2023-12-02  \n",
       "9999            Cash  In-store       2023-11-07  "
      ]
     },
     "execution_count": 3,
     "metadata": {},
     "output_type": "execute_result"
    }
   ],
   "source": [
    "df.tail()"
   ]
  },
  {
   "cell_type": "code",
   "execution_count": 4,
   "id": "3e1a3de0",
   "metadata": {
    "execution": {
     "iopub.execute_input": "2025-04-28T11:42:29.134048Z",
     "iopub.status.busy": "2025-04-28T11:42:29.133610Z",
     "iopub.status.idle": "2025-04-28T11:42:29.167977Z",
     "shell.execute_reply": "2025-04-28T11:42:29.166946Z"
    },
    "papermill": {
     "duration": 0.043318,
     "end_time": "2025-04-28T11:42:29.169607",
     "exception": false,
     "start_time": "2025-04-28T11:42:29.126289",
     "status": "completed"
    },
    "tags": []
   },
   "outputs": [
    {
     "name": "stdout",
     "output_type": "stream",
     "text": [
      "<class 'pandas.core.frame.DataFrame'>\n",
      "RangeIndex: 10000 entries, 0 to 9999\n",
      "Data columns (total 8 columns):\n",
      " #   Column            Non-Null Count  Dtype \n",
      "---  ------            --------------  ----- \n",
      " 0   Transaction ID    10000 non-null  object\n",
      " 1   Item              9667 non-null   object\n",
      " 2   Quantity          9862 non-null   object\n",
      " 3   Price Per Unit    9821 non-null   object\n",
      " 4   Total Spent       9827 non-null   object\n",
      " 5   Payment Method    7421 non-null   object\n",
      " 6   Location          6735 non-null   object\n",
      " 7   Transaction Date  9841 non-null   object\n",
      "dtypes: object(8)\n",
      "memory usage: 625.1+ KB\n"
     ]
    }
   ],
   "source": [
    "df.info()"
   ]
  },
  {
   "cell_type": "code",
   "execution_count": 5,
   "id": "2a738647",
   "metadata": {
    "execution": {
     "iopub.execute_input": "2025-04-28T11:42:29.184542Z",
     "iopub.status.busy": "2025-04-28T11:42:29.184261Z",
     "iopub.status.idle": "2025-04-28T11:42:29.217083Z",
     "shell.execute_reply": "2025-04-28T11:42:29.216165Z"
    },
    "papermill": {
     "duration": 0.049637,
     "end_time": "2025-04-28T11:42:29.225989",
     "exception": false,
     "start_time": "2025-04-28T11:42:29.176352",
     "status": "completed"
    },
    "tags": []
   },
   "outputs": [
    {
     "data": {
      "text/html": [
       "<div>\n",
       "<style scoped>\n",
       "    .dataframe tbody tr th:only-of-type {\n",
       "        vertical-align: middle;\n",
       "    }\n",
       "\n",
       "    .dataframe tbody tr th {\n",
       "        vertical-align: top;\n",
       "    }\n",
       "\n",
       "    .dataframe thead th {\n",
       "        text-align: right;\n",
       "    }\n",
       "</style>\n",
       "<table border=\"1\" class=\"dataframe\">\n",
       "  <thead>\n",
       "    <tr style=\"text-align: right;\">\n",
       "      <th></th>\n",
       "      <th>Transaction ID</th>\n",
       "      <th>Item</th>\n",
       "      <th>Quantity</th>\n",
       "      <th>Price Per Unit</th>\n",
       "      <th>Total Spent</th>\n",
       "      <th>Payment Method</th>\n",
       "      <th>Location</th>\n",
       "      <th>Transaction Date</th>\n",
       "    </tr>\n",
       "  </thead>\n",
       "  <tbody>\n",
       "    <tr>\n",
       "      <th>count</th>\n",
       "      <td>10000</td>\n",
       "      <td>9667</td>\n",
       "      <td>9862</td>\n",
       "      <td>9821</td>\n",
       "      <td>9827</td>\n",
       "      <td>7421</td>\n",
       "      <td>6735</td>\n",
       "      <td>9841</td>\n",
       "    </tr>\n",
       "    <tr>\n",
       "      <th>unique</th>\n",
       "      <td>10000</td>\n",
       "      <td>10</td>\n",
       "      <td>7</td>\n",
       "      <td>8</td>\n",
       "      <td>19</td>\n",
       "      <td>5</td>\n",
       "      <td>4</td>\n",
       "      <td>367</td>\n",
       "    </tr>\n",
       "    <tr>\n",
       "      <th>top</th>\n",
       "      <td>TXN_1961373</td>\n",
       "      <td>Juice</td>\n",
       "      <td>5</td>\n",
       "      <td>3.0</td>\n",
       "      <td>6.0</td>\n",
       "      <td>Digital Wallet</td>\n",
       "      <td>Takeaway</td>\n",
       "      <td>UNKNOWN</td>\n",
       "    </tr>\n",
       "    <tr>\n",
       "      <th>freq</th>\n",
       "      <td>1</td>\n",
       "      <td>1171</td>\n",
       "      <td>2013</td>\n",
       "      <td>2429</td>\n",
       "      <td>979</td>\n",
       "      <td>2291</td>\n",
       "      <td>3022</td>\n",
       "      <td>159</td>\n",
       "    </tr>\n",
       "  </tbody>\n",
       "</table>\n",
       "</div>"
      ],
      "text/plain": [
       "       Transaction ID   Item Quantity Price Per Unit Total Spent  \\\n",
       "count           10000   9667     9862           9821        9827   \n",
       "unique          10000     10        7              8          19   \n",
       "top       TXN_1961373  Juice        5            3.0         6.0   \n",
       "freq                1   1171     2013           2429         979   \n",
       "\n",
       "        Payment Method  Location Transaction Date  \n",
       "count             7421      6735             9841  \n",
       "unique               5         4              367  \n",
       "top     Digital Wallet  Takeaway          UNKNOWN  \n",
       "freq              2291      3022              159  "
      ]
     },
     "execution_count": 5,
     "metadata": {},
     "output_type": "execute_result"
    }
   ],
   "source": [
    "df.describe()"
   ]
  },
  {
   "cell_type": "code",
   "execution_count": 6,
   "id": "d7b52372",
   "metadata": {
    "execution": {
     "iopub.execute_input": "2025-04-28T11:42:29.244092Z",
     "iopub.status.busy": "2025-04-28T11:42:29.243764Z",
     "iopub.status.idle": "2025-04-28T11:42:29.250209Z",
     "shell.execute_reply": "2025-04-28T11:42:29.249347Z"
    },
    "papermill": {
     "duration": 0.01594,
     "end_time": "2025-04-28T11:42:29.251731",
     "exception": false,
     "start_time": "2025-04-28T11:42:29.235791",
     "status": "completed"
    },
    "tags": []
   },
   "outputs": [
    {
     "data": {
      "text/plain": [
       "(10000, 8)"
      ]
     },
     "execution_count": 6,
     "metadata": {},
     "output_type": "execute_result"
    }
   ],
   "source": [
    "df.shape"
   ]
  },
  {
   "cell_type": "code",
   "execution_count": 7,
   "id": "ee1a5f04",
   "metadata": {
    "execution": {
     "iopub.execute_input": "2025-04-28T11:42:29.267095Z",
     "iopub.status.busy": "2025-04-28T11:42:29.266677Z",
     "iopub.status.idle": "2025-04-28T11:42:29.273951Z",
     "shell.execute_reply": "2025-04-28T11:42:29.272877Z"
    },
    "papermill": {
     "duration": 0.01729,
     "end_time": "2025-04-28T11:42:29.276109",
     "exception": false,
     "start_time": "2025-04-28T11:42:29.258819",
     "status": "completed"
    },
    "tags": []
   },
   "outputs": [
    {
     "data": {
      "text/plain": [
       "Index(['Transaction ID', 'Item', 'Quantity', 'Price Per Unit', 'Total Spent',\n",
       "       'Payment Method', 'Location', 'Transaction Date'],\n",
       "      dtype='object')"
      ]
     },
     "execution_count": 7,
     "metadata": {},
     "output_type": "execute_result"
    }
   ],
   "source": [
    "df.columns"
   ]
  },
  {
   "cell_type": "code",
   "execution_count": 8,
   "id": "882094c1",
   "metadata": {
    "execution": {
     "iopub.execute_input": "2025-04-28T11:42:29.291470Z",
     "iopub.status.busy": "2025-04-28T11:42:29.290817Z",
     "iopub.status.idle": "2025-04-28T11:42:29.299189Z",
     "shell.execute_reply": "2025-04-28T11:42:29.298270Z"
    },
    "papermill": {
     "duration": 0.017588,
     "end_time": "2025-04-28T11:42:29.300734",
     "exception": false,
     "start_time": "2025-04-28T11:42:29.283146",
     "status": "completed"
    },
    "tags": []
   },
   "outputs": [
    {
     "data": {
      "text/plain": [
       "Transaction ID      object\n",
       "Item                object\n",
       "Quantity            object\n",
       "Price Per Unit      object\n",
       "Total Spent         object\n",
       "Payment Method      object\n",
       "Location            object\n",
       "Transaction Date    object\n",
       "dtype: object"
      ]
     },
     "execution_count": 8,
     "metadata": {},
     "output_type": "execute_result"
    }
   ],
   "source": [
    "df.dtypes"
   ]
  },
  {
   "cell_type": "code",
   "execution_count": 9,
   "id": "b6bdf227",
   "metadata": {
    "execution": {
     "iopub.execute_input": "2025-04-28T11:42:29.315716Z",
     "iopub.status.busy": "2025-04-28T11:42:29.315336Z",
     "iopub.status.idle": "2025-04-28T11:42:29.333941Z",
     "shell.execute_reply": "2025-04-28T11:42:29.332982Z"
    },
    "papermill": {
     "duration": 0.027783,
     "end_time": "2025-04-28T11:42:29.335484",
     "exception": false,
     "start_time": "2025-04-28T11:42:29.307701",
     "status": "completed"
    },
    "tags": []
   },
   "outputs": [
    {
     "data": {
      "text/html": [
       "<div>\n",
       "<style scoped>\n",
       "    .dataframe tbody tr th:only-of-type {\n",
       "        vertical-align: middle;\n",
       "    }\n",
       "\n",
       "    .dataframe tbody tr th {\n",
       "        vertical-align: top;\n",
       "    }\n",
       "\n",
       "    .dataframe thead th {\n",
       "        text-align: right;\n",
       "    }\n",
       "</style>\n",
       "<table border=\"1\" class=\"dataframe\">\n",
       "  <thead>\n",
       "    <tr style=\"text-align: right;\">\n",
       "      <th></th>\n",
       "      <th>Transaction ID</th>\n",
       "      <th>Item</th>\n",
       "      <th>Quantity</th>\n",
       "      <th>Price Per Unit</th>\n",
       "      <th>Total Spent</th>\n",
       "      <th>Payment Method</th>\n",
       "      <th>Location</th>\n",
       "      <th>Transaction Date</th>\n",
       "    </tr>\n",
       "  </thead>\n",
       "  <tbody>\n",
       "    <tr>\n",
       "      <th>8573</th>\n",
       "      <td>TXN_4563544</td>\n",
       "      <td>Sandwich</td>\n",
       "      <td>5</td>\n",
       "      <td>4.0</td>\n",
       "      <td>20.0</td>\n",
       "      <td>NaN</td>\n",
       "      <td>ERROR</td>\n",
       "      <td>2023-06-10</td>\n",
       "    </tr>\n",
       "    <tr>\n",
       "      <th>3123</th>\n",
       "      <td>TXN_4226287</td>\n",
       "      <td>Cookie</td>\n",
       "      <td>1</td>\n",
       "      <td>1.0</td>\n",
       "      <td>1.0</td>\n",
       "      <td>NaN</td>\n",
       "      <td>NaN</td>\n",
       "      <td>2023-04-29</td>\n",
       "    </tr>\n",
       "    <tr>\n",
       "      <th>5139</th>\n",
       "      <td>TXN_7426387</td>\n",
       "      <td>Smoothie</td>\n",
       "      <td>5</td>\n",
       "      <td>4.0</td>\n",
       "      <td>20.0</td>\n",
       "      <td>Cash</td>\n",
       "      <td>NaN</td>\n",
       "      <td>2023-10-30</td>\n",
       "    </tr>\n",
       "    <tr>\n",
       "      <th>3900</th>\n",
       "      <td>TXN_5093855</td>\n",
       "      <td>NaN</td>\n",
       "      <td>4</td>\n",
       "      <td>ERROR</td>\n",
       "      <td>6.0</td>\n",
       "      <td>Cash</td>\n",
       "      <td>Takeaway</td>\n",
       "      <td>2023-11-23</td>\n",
       "    </tr>\n",
       "    <tr>\n",
       "      <th>6963</th>\n",
       "      <td>TXN_1670848</td>\n",
       "      <td>Cake</td>\n",
       "      <td>2</td>\n",
       "      <td>ERROR</td>\n",
       "      <td>6.0</td>\n",
       "      <td>Credit Card</td>\n",
       "      <td>ERROR</td>\n",
       "      <td>2023-08-04</td>\n",
       "    </tr>\n",
       "    <tr>\n",
       "      <th>4114</th>\n",
       "      <td>TXN_7887682</td>\n",
       "      <td>UNKNOWN</td>\n",
       "      <td>2</td>\n",
       "      <td>2.0</td>\n",
       "      <td>4.0</td>\n",
       "      <td>Credit Card</td>\n",
       "      <td>Takeaway</td>\n",
       "      <td>2023-06-17</td>\n",
       "    </tr>\n",
       "    <tr>\n",
       "      <th>1249</th>\n",
       "      <td>TXN_3572190</td>\n",
       "      <td>Coffee</td>\n",
       "      <td>5</td>\n",
       "      <td>2.0</td>\n",
       "      <td>10.0</td>\n",
       "      <td>Credit Card</td>\n",
       "      <td>Takeaway</td>\n",
       "      <td>2023-03-05</td>\n",
       "    </tr>\n",
       "    <tr>\n",
       "      <th>9669</th>\n",
       "      <td>TXN_8877714</td>\n",
       "      <td>Juice</td>\n",
       "      <td>5</td>\n",
       "      <td>3.0</td>\n",
       "      <td>15.0</td>\n",
       "      <td>NaN</td>\n",
       "      <td>NaN</td>\n",
       "      <td>2023-03-28</td>\n",
       "    </tr>\n",
       "    <tr>\n",
       "      <th>2744</th>\n",
       "      <td>TXN_9773606</td>\n",
       "      <td>Tea</td>\n",
       "      <td>2</td>\n",
       "      <td>1.5</td>\n",
       "      <td>3.0</td>\n",
       "      <td>Cash</td>\n",
       "      <td>Takeaway</td>\n",
       "      <td>2023-12-04</td>\n",
       "    </tr>\n",
       "    <tr>\n",
       "      <th>1018</th>\n",
       "      <td>TXN_3380698</td>\n",
       "      <td>Coffee</td>\n",
       "      <td>3</td>\n",
       "      <td>2.0</td>\n",
       "      <td>6.0</td>\n",
       "      <td>Credit Card</td>\n",
       "      <td>Takeaway</td>\n",
       "      <td>2023-12-15</td>\n",
       "    </tr>\n",
       "  </tbody>\n",
       "</table>\n",
       "</div>"
      ],
      "text/plain": [
       "     Transaction ID      Item Quantity Price Per Unit Total Spent  \\\n",
       "8573    TXN_4563544  Sandwich        5            4.0        20.0   \n",
       "3123    TXN_4226287    Cookie        1            1.0         1.0   \n",
       "5139    TXN_7426387  Smoothie        5            4.0        20.0   \n",
       "3900    TXN_5093855       NaN        4          ERROR         6.0   \n",
       "6963    TXN_1670848      Cake        2          ERROR         6.0   \n",
       "4114    TXN_7887682   UNKNOWN        2            2.0         4.0   \n",
       "1249    TXN_3572190    Coffee        5            2.0        10.0   \n",
       "9669    TXN_8877714     Juice        5            3.0        15.0   \n",
       "2744    TXN_9773606       Tea        2            1.5         3.0   \n",
       "1018    TXN_3380698    Coffee        3            2.0         6.0   \n",
       "\n",
       "     Payment Method  Location Transaction Date  \n",
       "8573            NaN     ERROR       2023-06-10  \n",
       "3123            NaN       NaN       2023-04-29  \n",
       "5139           Cash       NaN       2023-10-30  \n",
       "3900           Cash  Takeaway       2023-11-23  \n",
       "6963    Credit Card     ERROR       2023-08-04  \n",
       "4114    Credit Card  Takeaway       2023-06-17  \n",
       "1249    Credit Card  Takeaway       2023-03-05  \n",
       "9669            NaN       NaN       2023-03-28  \n",
       "2744           Cash  Takeaway       2023-12-04  \n",
       "1018    Credit Card  Takeaway       2023-12-15  "
      ]
     },
     "execution_count": 9,
     "metadata": {},
     "output_type": "execute_result"
    }
   ],
   "source": [
    "df.sample(10)"
   ]
  },
  {
   "cell_type": "code",
   "execution_count": 10,
   "id": "d5c37148",
   "metadata": {
    "execution": {
     "iopub.execute_input": "2025-04-28T11:42:29.350737Z",
     "iopub.status.busy": "2025-04-28T11:42:29.350427Z",
     "iopub.status.idle": "2025-04-28T11:42:29.362063Z",
     "shell.execute_reply": "2025-04-28T11:42:29.360973Z"
    },
    "papermill": {
     "duration": 0.021362,
     "end_time": "2025-04-28T11:42:29.364092",
     "exception": false,
     "start_time": "2025-04-28T11:42:29.342730",
     "status": "completed"
    },
    "tags": []
   },
   "outputs": [
    {
     "data": {
      "text/plain": [
       "Transaction ID         0\n",
       "Item                 333\n",
       "Quantity             138\n",
       "Price Per Unit       179\n",
       "Total Spent          173\n",
       "Payment Method      2579\n",
       "Location            3265\n",
       "Transaction Date     159\n",
       "dtype: int64"
      ]
     },
     "execution_count": 10,
     "metadata": {},
     "output_type": "execute_result"
    }
   ],
   "source": [
    "df.isnull().sum()"
   ]
  },
  {
   "cell_type": "code",
   "execution_count": 11,
   "id": "3463d505",
   "metadata": {
    "execution": {
     "iopub.execute_input": "2025-04-28T11:42:29.385303Z",
     "iopub.status.busy": "2025-04-28T11:42:29.384880Z",
     "iopub.status.idle": "2025-04-28T11:42:29.397403Z",
     "shell.execute_reply": "2025-04-28T11:42:29.396553Z"
    },
    "papermill": {
     "duration": 0.022737,
     "end_time": "2025-04-28T11:42:29.399013",
     "exception": false,
     "start_time": "2025-04-28T11:42:29.376276",
     "status": "completed"
    },
    "tags": []
   },
   "outputs": [],
   "source": [
    "df[['Item', 'Payment Method', 'Location']] = df[['Item', 'Payment Method', 'Location']].fillna('NONE')"
   ]
  },
  {
   "cell_type": "code",
   "execution_count": 12,
   "id": "6f302da7",
   "metadata": {
    "execution": {
     "iopub.execute_input": "2025-04-28T11:42:29.414746Z",
     "iopub.status.busy": "2025-04-28T11:42:29.414363Z",
     "iopub.status.idle": "2025-04-28T11:42:29.447148Z",
     "shell.execute_reply": "2025-04-28T11:42:29.446240Z"
    },
    "papermill": {
     "duration": 0.043036,
     "end_time": "2025-04-28T11:42:29.449238",
     "exception": false,
     "start_time": "2025-04-28T11:42:29.406202",
     "status": "completed"
    },
    "tags": []
   },
   "outputs": [],
   "source": [
    "df['Quantity'] = pd.to_numeric(df['Quantity'], errors='coerce')\n",
    "df['Price Per Unit'] = pd.to_numeric(df['Price Per Unit'], errors='coerce')\n",
    "\n",
    "df[['Quantity', 'Price Per Unit']] = df[['Quantity', 'Price Per Unit']].fillna(df[['Quantity', 'Price Per Unit']].mean())"
   ]
  },
  {
   "cell_type": "code",
   "execution_count": 13,
   "id": "10fa4b2d",
   "metadata": {
    "execution": {
     "iopub.execute_input": "2025-04-28T11:42:29.465065Z",
     "iopub.status.busy": "2025-04-28T11:42:29.464664Z",
     "iopub.status.idle": "2025-04-28T11:42:29.480066Z",
     "shell.execute_reply": "2025-04-28T11:42:29.479090Z"
    },
    "papermill": {
     "duration": 0.024932,
     "end_time": "2025-04-28T11:42:29.481460",
     "exception": false,
     "start_time": "2025-04-28T11:42:29.456528",
     "status": "completed"
    },
    "tags": []
   },
   "outputs": [
    {
     "data": {
      "text/plain": [
       "Transaction ID        0\n",
       "Item                  0\n",
       "Quantity              0\n",
       "Price Per Unit        0\n",
       "Total Spent         173\n",
       "Payment Method        0\n",
       "Location              0\n",
       "Transaction Date    159\n",
       "dtype: int64"
      ]
     },
     "execution_count": 13,
     "metadata": {},
     "output_type": "execute_result"
    }
   ],
   "source": [
    "df.isnull().sum()"
   ]
  },
  {
   "cell_type": "code",
   "execution_count": 14,
   "id": "2134ca30",
   "metadata": {
    "execution": {
     "iopub.execute_input": "2025-04-28T11:42:29.497325Z",
     "iopub.status.busy": "2025-04-28T11:42:29.496955Z",
     "iopub.status.idle": "2025-04-28T11:42:29.504179Z",
     "shell.execute_reply": "2025-04-28T11:42:29.503328Z"
    },
    "papermill": {
     "duration": 0.017084,
     "end_time": "2025-04-28T11:42:29.505843",
     "exception": false,
     "start_time": "2025-04-28T11:42:29.488759",
     "status": "completed"
    },
    "tags": []
   },
   "outputs": [
    {
     "data": {
      "text/plain": [
       "array(['Coffee', 'Cake', 'Cookie', 'Salad', 'Smoothie', 'UNKNOWN',\n",
       "       'Sandwich', 'NONE', 'ERROR', 'Juice', 'Tea'], dtype=object)"
      ]
     },
     "execution_count": 14,
     "metadata": {},
     "output_type": "execute_result"
    }
   ],
   "source": [
    "df['Item'].unique()"
   ]
  },
  {
   "cell_type": "code",
   "execution_count": 15,
   "id": "893d5ea8",
   "metadata": {
    "execution": {
     "iopub.execute_input": "2025-04-28T11:42:29.527972Z",
     "iopub.status.busy": "2025-04-28T11:42:29.527611Z",
     "iopub.status.idle": "2025-04-28T11:42:29.534051Z",
     "shell.execute_reply": "2025-04-28T11:42:29.532993Z"
    },
    "papermill": {
     "duration": 0.018073,
     "end_time": "2025-04-28T11:42:29.536180",
     "exception": false,
     "start_time": "2025-04-28T11:42:29.518107",
     "status": "completed"
    },
    "tags": []
   },
   "outputs": [],
   "source": [
    "df['Item'] = df['Item'].replace('NONE', 'UNKNOWN')"
   ]
  },
  {
   "cell_type": "code",
   "execution_count": 16,
   "id": "146577d1",
   "metadata": {
    "execution": {
     "iopub.execute_input": "2025-04-28T11:42:29.556820Z",
     "iopub.status.busy": "2025-04-28T11:42:29.556407Z",
     "iopub.status.idle": "2025-04-28T11:42:29.563700Z",
     "shell.execute_reply": "2025-04-28T11:42:29.563087Z"
    },
    "papermill": {
     "duration": 0.019311,
     "end_time": "2025-04-28T11:42:29.565085",
     "exception": false,
     "start_time": "2025-04-28T11:42:29.545774",
     "status": "completed"
    },
    "tags": []
   },
   "outputs": [
    {
     "data": {
      "text/plain": [
       "array(['Coffee', 'Cake', 'Cookie', 'Salad', 'Smoothie', 'UNKNOWN',\n",
       "       'Sandwich', 'ERROR', 'Juice', 'Tea'], dtype=object)"
      ]
     },
     "execution_count": 16,
     "metadata": {},
     "output_type": "execute_result"
    }
   ],
   "source": [
    "df['Item'].unique()"
   ]
  },
  {
   "cell_type": "code",
   "execution_count": 17,
   "id": "86a91a85",
   "metadata": {
    "execution": {
     "iopub.execute_input": "2025-04-28T11:42:29.588151Z",
     "iopub.status.busy": "2025-04-28T11:42:29.587325Z",
     "iopub.status.idle": "2025-04-28T11:42:29.599194Z",
     "shell.execute_reply": "2025-04-28T11:42:29.598231Z"
    },
    "papermill": {
     "duration": 0.025347,
     "end_time": "2025-04-28T11:42:29.600525",
     "exception": false,
     "start_time": "2025-04-28T11:42:29.575178",
     "status": "completed"
    },
    "tags": []
   },
   "outputs": [
    {
     "name": "stdout",
     "output_type": "stream",
     "text": [
      "292\n"
     ]
    }
   ],
   "source": [
    "count_error = df['Item'].str.count('ERROR').sum()\n",
    "print(count_error)"
   ]
  },
  {
   "cell_type": "code",
   "execution_count": 18,
   "id": "ba8ef169",
   "metadata": {
    "execution": {
     "iopub.execute_input": "2025-04-28T11:42:29.617307Z",
     "iopub.status.busy": "2025-04-28T11:42:29.616583Z",
     "iopub.status.idle": "2025-04-28T11:42:29.636853Z",
     "shell.execute_reply": "2025-04-28T11:42:29.635865Z"
    },
    "papermill": {
     "duration": 0.030481,
     "end_time": "2025-04-28T11:42:29.638375",
     "exception": false,
     "start_time": "2025-04-28T11:42:29.607894",
     "status": "completed"
    },
    "tags": []
   },
   "outputs": [
    {
     "data": {
      "text/html": [
       "<div>\n",
       "<style scoped>\n",
       "    .dataframe tbody tr th:only-of-type {\n",
       "        vertical-align: middle;\n",
       "    }\n",
       "\n",
       "    .dataframe tbody tr th {\n",
       "        vertical-align: top;\n",
       "    }\n",
       "\n",
       "    .dataframe thead th {\n",
       "        text-align: right;\n",
       "    }\n",
       "</style>\n",
       "<table border=\"1\" class=\"dataframe\">\n",
       "  <thead>\n",
       "    <tr style=\"text-align: right;\">\n",
       "      <th></th>\n",
       "      <th>Transaction ID</th>\n",
       "      <th>Item</th>\n",
       "      <th>Quantity</th>\n",
       "      <th>Price Per Unit</th>\n",
       "      <th>Total Spent</th>\n",
       "      <th>Payment Method</th>\n",
       "      <th>Location</th>\n",
       "      <th>Transaction Date</th>\n",
       "    </tr>\n",
       "  </thead>\n",
       "  <tbody>\n",
       "    <tr>\n",
       "      <th>14</th>\n",
       "      <td>TXN_8915701</td>\n",
       "      <td>ERROR</td>\n",
       "      <td>2.0</td>\n",
       "      <td>1.500000</td>\n",
       "      <td>3.0</td>\n",
       "      <td>NONE</td>\n",
       "      <td>In-store</td>\n",
       "      <td>2023-03-21</td>\n",
       "    </tr>\n",
       "    <tr>\n",
       "      <th>69</th>\n",
       "      <td>TXN_8471743</td>\n",
       "      <td>ERROR</td>\n",
       "      <td>5.0</td>\n",
       "      <td>3.000000</td>\n",
       "      <td>15.0</td>\n",
       "      <td>Digital Wallet</td>\n",
       "      <td>In-store</td>\n",
       "      <td>2023-04-06</td>\n",
       "    </tr>\n",
       "    <tr>\n",
       "      <th>88</th>\n",
       "      <td>TXN_9487821</td>\n",
       "      <td>ERROR</td>\n",
       "      <td>1.0</td>\n",
       "      <td>5.000000</td>\n",
       "      <td>5.0</td>\n",
       "      <td>Digital Wallet</td>\n",
       "      <td>Takeaway</td>\n",
       "      <td>2023-05-24</td>\n",
       "    </tr>\n",
       "    <tr>\n",
       "      <th>118</th>\n",
       "      <td>TXN_4633784</td>\n",
       "      <td>ERROR</td>\n",
       "      <td>5.0</td>\n",
       "      <td>2.949984</td>\n",
       "      <td>15.0</td>\n",
       "      <td>NONE</td>\n",
       "      <td>In-store</td>\n",
       "      <td>2023-02-06</td>\n",
       "    </tr>\n",
       "    <tr>\n",
       "      <th>211</th>\n",
       "      <td>TXN_6717827</td>\n",
       "      <td>ERROR</td>\n",
       "      <td>3.0</td>\n",
       "      <td>5.000000</td>\n",
       "      <td>15.0</td>\n",
       "      <td>Digital Wallet</td>\n",
       "      <td>NONE</td>\n",
       "      <td>2023-11-15</td>\n",
       "    </tr>\n",
       "  </tbody>\n",
       "</table>\n",
       "</div>"
      ],
      "text/plain": [
       "    Transaction ID   Item  Quantity  Price Per Unit Total Spent  \\\n",
       "14     TXN_8915701  ERROR       2.0        1.500000         3.0   \n",
       "69     TXN_8471743  ERROR       5.0        3.000000        15.0   \n",
       "88     TXN_9487821  ERROR       1.0        5.000000         5.0   \n",
       "118    TXN_4633784  ERROR       5.0        2.949984        15.0   \n",
       "211    TXN_6717827  ERROR       3.0        5.000000        15.0   \n",
       "\n",
       "     Payment Method  Location Transaction Date  \n",
       "14             NONE  In-store       2023-03-21  \n",
       "69   Digital Wallet  In-store       2023-04-06  \n",
       "88   Digital Wallet  Takeaway       2023-05-24  \n",
       "118            NONE  In-store       2023-02-06  \n",
       "211  Digital Wallet      NONE       2023-11-15  "
      ]
     },
     "execution_count": 18,
     "metadata": {},
     "output_type": "execute_result"
    }
   ],
   "source": [
    "df[df['Item'] == 'ERROR'].head()"
   ]
  },
  {
   "cell_type": "code",
   "execution_count": 19,
   "id": "3b5371ee",
   "metadata": {
    "execution": {
     "iopub.execute_input": "2025-04-28T11:42:29.654774Z",
     "iopub.status.busy": "2025-04-28T11:42:29.654391Z",
     "iopub.status.idle": "2025-04-28T11:42:29.662282Z",
     "shell.execute_reply": "2025-04-28T11:42:29.661363Z"
    },
    "papermill": {
     "duration": 0.018052,
     "end_time": "2025-04-28T11:42:29.664038",
     "exception": false,
     "start_time": "2025-04-28T11:42:29.645986",
     "status": "completed"
    },
    "tags": []
   },
   "outputs": [],
   "source": [
    "df['Item'] = df['Item'].replace('ERROR','UNKNOWN')"
   ]
  },
  {
   "cell_type": "code",
   "execution_count": 20,
   "id": "15b716c3",
   "metadata": {
    "execution": {
     "iopub.execute_input": "2025-04-28T11:42:29.686461Z",
     "iopub.status.busy": "2025-04-28T11:42:29.685833Z",
     "iopub.status.idle": "2025-04-28T11:42:29.692674Z",
     "shell.execute_reply": "2025-04-28T11:42:29.691644Z"
    },
    "papermill": {
     "duration": 0.01705,
     "end_time": "2025-04-28T11:42:29.694439",
     "exception": false,
     "start_time": "2025-04-28T11:42:29.677389",
     "status": "completed"
    },
    "tags": []
   },
   "outputs": [
    {
     "data": {
      "text/plain": [
       "array(['Coffee', 'Cake', 'Cookie', 'Salad', 'Smoothie', 'UNKNOWN',\n",
       "       'Sandwich', 'Juice', 'Tea'], dtype=object)"
      ]
     },
     "execution_count": 20,
     "metadata": {},
     "output_type": "execute_result"
    }
   ],
   "source": [
    "df['Item'].unique()"
   ]
  },
  {
   "cell_type": "code",
   "execution_count": 21,
   "id": "62734a41",
   "metadata": {
    "execution": {
     "iopub.execute_input": "2025-04-28T11:42:29.711783Z",
     "iopub.status.busy": "2025-04-28T11:42:29.711485Z",
     "iopub.status.idle": "2025-04-28T11:42:29.717979Z",
     "shell.execute_reply": "2025-04-28T11:42:29.717153Z"
    },
    "papermill": {
     "duration": 0.016485,
     "end_time": "2025-04-28T11:42:29.719590",
     "exception": false,
     "start_time": "2025-04-28T11:42:29.703105",
     "status": "completed"
    },
    "tags": []
   },
   "outputs": [
    {
     "data": {
      "text/plain": [
       "array(['Credit Card', 'Cash', 'UNKNOWN', 'Digital Wallet', 'ERROR',\n",
       "       'NONE'], dtype=object)"
      ]
     },
     "execution_count": 21,
     "metadata": {},
     "output_type": "execute_result"
    }
   ],
   "source": [
    "df['Payment Method'].unique()"
   ]
  },
  {
   "cell_type": "code",
   "execution_count": 22,
   "id": "4f82532d",
   "metadata": {
    "execution": {
     "iopub.execute_input": "2025-04-28T11:42:29.743192Z",
     "iopub.status.busy": "2025-04-28T11:42:29.742859Z",
     "iopub.status.idle": "2025-04-28T11:42:29.749240Z",
     "shell.execute_reply": "2025-04-28T11:42:29.748385Z"
    },
    "papermill": {
     "duration": 0.017409,
     "end_time": "2025-04-28T11:42:29.751244",
     "exception": false,
     "start_time": "2025-04-28T11:42:29.733835",
     "status": "completed"
    },
    "tags": []
   },
   "outputs": [
    {
     "data": {
      "text/plain": [
       "array(['Takeaway', 'In-store', 'UNKNOWN', 'NONE', 'ERROR'], dtype=object)"
      ]
     },
     "execution_count": 22,
     "metadata": {},
     "output_type": "execute_result"
    }
   ],
   "source": [
    "df['Location'].unique()"
   ]
  },
  {
   "cell_type": "code",
   "execution_count": 23,
   "id": "81590731",
   "metadata": {
    "execution": {
     "iopub.execute_input": "2025-04-28T11:42:29.773468Z",
     "iopub.status.busy": "2025-04-28T11:42:29.773164Z",
     "iopub.status.idle": "2025-04-28T11:42:29.789862Z",
     "shell.execute_reply": "2025-04-28T11:42:29.789004Z"
    },
    "papermill": {
     "duration": 0.026834,
     "end_time": "2025-04-28T11:42:29.791463",
     "exception": false,
     "start_time": "2025-04-28T11:42:29.764629",
     "status": "completed"
    },
    "tags": []
   },
   "outputs": [],
   "source": [
    "unwanted_data = df[df['Payment Method'].isin(['UNKNOWN', 'NONE', 'ERROR'])].index\n",
    "\n",
    "# Drop the unwanted rows\n",
    "df = df.drop(unwanted_data)\n",
    "\n",
    "\n",
    "unwanted_data_1 = df[df['Location'].isin(['UNKNOWN', 'NONE', 'ERROR'])].index\n",
    "\n",
    "# Drop the unwanted rows\n",
    "df = df.drop(unwanted_data_1)\n",
    "\n",
    "unwanted_data_2 = df[df['Item'].isin(['UNKNOWN', 'NONE', 'ERROR'])].index\n",
    "\n",
    "# Drop the unwanted rows\n",
    "df = df.drop(unwanted_data_2)\n",
    "\n",
    "\n"
   ]
  },
  {
   "cell_type": "code",
   "execution_count": 24,
   "id": "1a20602c",
   "metadata": {
    "execution": {
     "iopub.execute_input": "2025-04-28T11:42:29.808709Z",
     "iopub.status.busy": "2025-04-28T11:42:29.808336Z",
     "iopub.status.idle": "2025-04-28T11:42:29.815151Z",
     "shell.execute_reply": "2025-04-28T11:42:29.814357Z"
    },
    "papermill": {
     "duration": 0.017612,
     "end_time": "2025-04-28T11:42:29.816853",
     "exception": false,
     "start_time": "2025-04-28T11:42:29.799241",
     "status": "completed"
    },
    "tags": []
   },
   "outputs": [
    {
     "data": {
      "text/plain": [
       "array(['Credit Card', 'Cash', 'Digital Wallet'], dtype=object)"
      ]
     },
     "execution_count": 24,
     "metadata": {},
     "output_type": "execute_result"
    }
   ],
   "source": [
    "df['Payment Method'].unique()"
   ]
  },
  {
   "cell_type": "code",
   "execution_count": 25,
   "id": "e30a61a4",
   "metadata": {
    "execution": {
     "iopub.execute_input": "2025-04-28T11:42:29.833901Z",
     "iopub.status.busy": "2025-04-28T11:42:29.833248Z",
     "iopub.status.idle": "2025-04-28T11:42:29.839671Z",
     "shell.execute_reply": "2025-04-28T11:42:29.838816Z"
    },
    "papermill": {
     "duration": 0.016455,
     "end_time": "2025-04-28T11:42:29.841089",
     "exception": false,
     "start_time": "2025-04-28T11:42:29.824634",
     "status": "completed"
    },
    "tags": []
   },
   "outputs": [
    {
     "data": {
      "text/plain": [
       "array(['Takeaway', 'In-store'], dtype=object)"
      ]
     },
     "execution_count": 25,
     "metadata": {},
     "output_type": "execute_result"
    }
   ],
   "source": [
    "df['Location'].unique()"
   ]
  },
  {
   "cell_type": "code",
   "execution_count": 26,
   "id": "765a1b72",
   "metadata": {
    "execution": {
     "iopub.execute_input": "2025-04-28T11:42:29.922068Z",
     "iopub.status.busy": "2025-04-28T11:42:29.921124Z",
     "iopub.status.idle": "2025-04-28T11:42:29.942610Z",
     "shell.execute_reply": "2025-04-28T11:42:29.941680Z"
    },
    "papermill": {
     "duration": 0.095389,
     "end_time": "2025-04-28T11:42:29.944406",
     "exception": false,
     "start_time": "2025-04-28T11:42:29.849017",
     "status": "completed"
    },
    "tags": []
   },
   "outputs": [],
   "source": [
    "df['Transaction Date'] = pd.to_datetime(df['Transaction Date'], errors='coerce')\n",
    "df.dropna(subset=['Transaction Date'], inplace=True)\n",
    "\n",
    "df[\"day\"] = df.loc[:, 'Transaction Date'].dt.day\n",
    "df[\"month\"] = df.loc[:, 'Transaction Date'].dt.month\n",
    "df[\"year\"] = df.loc[:, 'Transaction Date'].dt.year"
   ]
  },
  {
   "cell_type": "code",
   "execution_count": 27,
   "id": "62483f7e",
   "metadata": {
    "execution": {
     "iopub.execute_input": "2025-04-28T11:42:29.962531Z",
     "iopub.status.busy": "2025-04-28T11:42:29.961525Z",
     "iopub.status.idle": "2025-04-28T11:42:29.975952Z",
     "shell.execute_reply": "2025-04-28T11:42:29.975091Z"
    },
    "papermill": {
     "duration": 0.024922,
     "end_time": "2025-04-28T11:42:29.977518",
     "exception": false,
     "start_time": "2025-04-28T11:42:29.952596",
     "status": "completed"
    },
    "tags": []
   },
   "outputs": [
    {
     "data": {
      "text/html": [
       "<div>\n",
       "<style scoped>\n",
       "    .dataframe tbody tr th:only-of-type {\n",
       "        vertical-align: middle;\n",
       "    }\n",
       "\n",
       "    .dataframe tbody tr th {\n",
       "        vertical-align: top;\n",
       "    }\n",
       "\n",
       "    .dataframe thead th {\n",
       "        text-align: right;\n",
       "    }\n",
       "</style>\n",
       "<table border=\"1\" class=\"dataframe\">\n",
       "  <thead>\n",
       "    <tr style=\"text-align: right;\">\n",
       "      <th></th>\n",
       "      <th>Transaction ID</th>\n",
       "      <th>Item</th>\n",
       "      <th>Quantity</th>\n",
       "      <th>Price Per Unit</th>\n",
       "      <th>Total Spent</th>\n",
       "      <th>Payment Method</th>\n",
       "      <th>Location</th>\n",
       "      <th>Transaction Date</th>\n",
       "      <th>day</th>\n",
       "      <th>month</th>\n",
       "      <th>year</th>\n",
       "    </tr>\n",
       "  </thead>\n",
       "  <tbody>\n",
       "    <tr>\n",
       "      <th>0</th>\n",
       "      <td>TXN_1961373</td>\n",
       "      <td>Coffee</td>\n",
       "      <td>2.0</td>\n",
       "      <td>2.0</td>\n",
       "      <td>4.0</td>\n",
       "      <td>Credit Card</td>\n",
       "      <td>Takeaway</td>\n",
       "      <td>2023-09-08</td>\n",
       "      <td>8</td>\n",
       "      <td>9</td>\n",
       "      <td>2023</td>\n",
       "    </tr>\n",
       "    <tr>\n",
       "      <th>1</th>\n",
       "      <td>TXN_4977031</td>\n",
       "      <td>Cake</td>\n",
       "      <td>4.0</td>\n",
       "      <td>3.0</td>\n",
       "      <td>12.0</td>\n",
       "      <td>Cash</td>\n",
       "      <td>In-store</td>\n",
       "      <td>2023-05-16</td>\n",
       "      <td>16</td>\n",
       "      <td>5</td>\n",
       "      <td>2023</td>\n",
       "    </tr>\n",
       "    <tr>\n",
       "      <th>2</th>\n",
       "      <td>TXN_4271903</td>\n",
       "      <td>Cookie</td>\n",
       "      <td>4.0</td>\n",
       "      <td>1.0</td>\n",
       "      <td>ERROR</td>\n",
       "      <td>Credit Card</td>\n",
       "      <td>In-store</td>\n",
       "      <td>2023-07-19</td>\n",
       "      <td>19</td>\n",
       "      <td>7</td>\n",
       "      <td>2023</td>\n",
       "    </tr>\n",
       "    <tr>\n",
       "      <th>4</th>\n",
       "      <td>TXN_3160411</td>\n",
       "      <td>Coffee</td>\n",
       "      <td>2.0</td>\n",
       "      <td>2.0</td>\n",
       "      <td>4.0</td>\n",
       "      <td>Digital Wallet</td>\n",
       "      <td>In-store</td>\n",
       "      <td>2023-06-11</td>\n",
       "      <td>11</td>\n",
       "      <td>6</td>\n",
       "      <td>2023</td>\n",
       "    </tr>\n",
       "    <tr>\n",
       "      <th>10</th>\n",
       "      <td>TXN_2548360</td>\n",
       "      <td>Salad</td>\n",
       "      <td>5.0</td>\n",
       "      <td>5.0</td>\n",
       "      <td>25.0</td>\n",
       "      <td>Cash</td>\n",
       "      <td>Takeaway</td>\n",
       "      <td>2023-11-07</td>\n",
       "      <td>7</td>\n",
       "      <td>11</td>\n",
       "      <td>2023</td>\n",
       "    </tr>\n",
       "  </tbody>\n",
       "</table>\n",
       "</div>"
      ],
      "text/plain": [
       "   Transaction ID    Item  Quantity  Price Per Unit Total Spent  \\\n",
       "0     TXN_1961373  Coffee       2.0             2.0         4.0   \n",
       "1     TXN_4977031    Cake       4.0             3.0        12.0   \n",
       "2     TXN_4271903  Cookie       4.0             1.0       ERROR   \n",
       "4     TXN_3160411  Coffee       2.0             2.0         4.0   \n",
       "10    TXN_2548360   Salad       5.0             5.0        25.0   \n",
       "\n",
       "    Payment Method  Location Transaction Date  day  month  year  \n",
       "0      Credit Card  Takeaway       2023-09-08    8      9  2023  \n",
       "1             Cash  In-store       2023-05-16   16      5  2023  \n",
       "2      Credit Card  In-store       2023-07-19   19      7  2023  \n",
       "4   Digital Wallet  In-store       2023-06-11   11      6  2023  \n",
       "10            Cash  Takeaway       2023-11-07    7     11  2023  "
      ]
     },
     "execution_count": 27,
     "metadata": {},
     "output_type": "execute_result"
    }
   ],
   "source": [
    "df.head()"
   ]
  },
  {
   "cell_type": "code",
   "execution_count": 28,
   "id": "31afed63",
   "metadata": {
    "execution": {
     "iopub.execute_input": "2025-04-28T11:42:29.995681Z",
     "iopub.status.busy": "2025-04-28T11:42:29.995316Z",
     "iopub.status.idle": "2025-04-28T11:42:30.003567Z",
     "shell.execute_reply": "2025-04-28T11:42:30.002457Z"
    },
    "papermill": {
     "duration": 0.019187,
     "end_time": "2025-04-28T11:42:30.005121",
     "exception": false,
     "start_time": "2025-04-28T11:42:29.985934",
     "status": "completed"
    },
    "tags": []
   },
   "outputs": [
    {
     "data": {
      "text/plain": [
       "Transaction ID              object\n",
       "Item                        object\n",
       "Quantity                   float64\n",
       "Price Per Unit             float64\n",
       "Total Spent                 object\n",
       "Payment Method              object\n",
       "Location                    object\n",
       "Transaction Date    datetime64[ns]\n",
       "day                          int32\n",
       "month                        int32\n",
       "year                         int32\n",
       "dtype: object"
      ]
     },
     "execution_count": 28,
     "metadata": {},
     "output_type": "execute_result"
    }
   ],
   "source": [
    "df.dtypes"
   ]
  },
  {
   "cell_type": "markdown",
   "id": "107d9929",
   "metadata": {
    "papermill": {
     "duration": 0.008225,
     "end_time": "2025-04-28T11:42:30.021676",
     "exception": false,
     "start_time": "2025-04-28T11:42:30.013451",
     "status": "completed"
    },
    "tags": []
   },
   "source": [
    "# **Item based salses**"
   ]
  },
  {
   "cell_type": "code",
   "execution_count": 29,
   "id": "fd3212c4",
   "metadata": {
    "execution": {
     "iopub.execute_input": "2025-04-28T11:42:30.041686Z",
     "iopub.status.busy": "2025-04-28T11:42:30.041292Z",
     "iopub.status.idle": "2025-04-28T11:42:30.063564Z",
     "shell.execute_reply": "2025-04-28T11:42:30.062678Z"
    },
    "papermill": {
     "duration": 0.033445,
     "end_time": "2025-04-28T11:42:30.065177",
     "exception": false,
     "start_time": "2025-04-28T11:42:30.031732",
     "status": "completed"
    },
    "tags": []
   },
   "outputs": [
    {
     "data": {
      "text/html": [
       "<div>\n",
       "<style scoped>\n",
       "    .dataframe tbody tr th:only-of-type {\n",
       "        vertical-align: middle;\n",
       "    }\n",
       "\n",
       "    .dataframe tbody tr th {\n",
       "        vertical-align: top;\n",
       "    }\n",
       "\n",
       "    .dataframe thead th {\n",
       "        text-align: right;\n",
       "    }\n",
       "</style>\n",
       "<table border=\"1\" class=\"dataframe\">\n",
       "  <thead>\n",
       "    <tr style=\"text-align: right;\">\n",
       "      <th></th>\n",
       "      <th>Item</th>\n",
       "      <th>Total Spent</th>\n",
       "    </tr>\n",
       "  </thead>\n",
       "  <tbody>\n",
       "    <tr>\n",
       "      <th>4</th>\n",
       "      <td>Salad</td>\n",
       "      <td>7015.0</td>\n",
       "    </tr>\n",
       "    <tr>\n",
       "      <th>5</th>\n",
       "      <td>Sandwich</td>\n",
       "      <td>5428.0</td>\n",
       "    </tr>\n",
       "    <tr>\n",
       "      <th>6</th>\n",
       "      <td>Smoothie</td>\n",
       "      <td>4472.0</td>\n",
       "    </tr>\n",
       "    <tr>\n",
       "      <th>3</th>\n",
       "      <td>Juice</td>\n",
       "      <td>4041.0</td>\n",
       "    </tr>\n",
       "    <tr>\n",
       "      <th>0</th>\n",
       "      <td>Cake</td>\n",
       "      <td>3927.0</td>\n",
       "    </tr>\n",
       "    <tr>\n",
       "      <th>1</th>\n",
       "      <td>Coffee</td>\n",
       "      <td>2514.0</td>\n",
       "    </tr>\n",
       "    <tr>\n",
       "      <th>7</th>\n",
       "      <td>Tea</td>\n",
       "      <td>1906.5</td>\n",
       "    </tr>\n",
       "    <tr>\n",
       "      <th>2</th>\n",
       "      <td>Cookie</td>\n",
       "      <td>1296.0</td>\n",
       "    </tr>\n",
       "  </tbody>\n",
       "</table>\n",
       "</div>"
      ],
      "text/plain": [
       "       Item  Total Spent\n",
       "4     Salad       7015.0\n",
       "5  Sandwich       5428.0\n",
       "6  Smoothie       4472.0\n",
       "3     Juice       4041.0\n",
       "0      Cake       3927.0\n",
       "1    Coffee       2514.0\n",
       "7       Tea       1906.5\n",
       "2    Cookie       1296.0"
      ]
     },
     "execution_count": 29,
     "metadata": {},
     "output_type": "execute_result"
    }
   ],
   "source": [
    "df['Total Spent'] = pd.to_numeric(df['Total Spent'], errors='coerce')\n",
    "\n",
    "Total_sales_by_item = df.groupby(df['Item'])[['Total Spent']].sum().reset_index()\n",
    "Total_sales_by_item = Total_sales_by_item.sort_values(by=\"Total Spent\",ascending=False)\n",
    "Total_sales_by_item"
   ]
  },
  {
   "cell_type": "code",
   "execution_count": 30,
   "id": "8b9ab6ba",
   "metadata": {
    "execution": {
     "iopub.execute_input": "2025-04-28T11:42:30.084411Z",
     "iopub.status.busy": "2025-04-28T11:42:30.084019Z",
     "iopub.status.idle": "2025-04-28T11:42:30.400035Z",
     "shell.execute_reply": "2025-04-28T11:42:30.398945Z"
    },
    "papermill": {
     "duration": 0.327531,
     "end_time": "2025-04-28T11:42:30.401617",
     "exception": false,
     "start_time": "2025-04-28T11:42:30.074086",
     "status": "completed"
    },
    "tags": []
   },
   "outputs": [
    {
     "data": {
      "image/png": "[encoded data removed]",
      "text/plain": [
       "<Figure size 1500x600 with 1 Axes>"
      ]
     },
     "metadata": {},
     "output_type": "display_data"
    }
   ],
   "source": [
    "# Horizontal Bar chart\n",
    "plt.figure(figsize=(15, 6))\n",
    "sns.barplot(x='Total Spent', y='Item', data=Total_sales_by_item, palette='Blues')\n",
    "plt.title('What is the total revenue generated by each item?')\n",
    "plt.xlabel('Total Spent')\n",
    "plt.ylabel('Item')\n",
    "plt.show()\n"
   ]
  },
  {
   "cell_type": "code",
   "execution_count": 31,
   "id": "ff23f0de",
   "metadata": {
    "execution": {
     "iopub.execute_input": "2025-04-28T11:42:30.421063Z",
     "iopub.status.busy": "2025-04-28T11:42:30.420742Z",
     "iopub.status.idle": "2025-04-28T11:42:30.434054Z",
     "shell.execute_reply": "2025-04-28T11:42:30.432994Z"
    },
    "papermill": {
     "duration": 0.024505,
     "end_time": "2025-04-28T11:42:30.435532",
     "exception": false,
     "start_time": "2025-04-28T11:42:30.411027",
     "status": "completed"
    },
    "tags": []
   },
   "outputs": [
    {
     "data": {
      "text/html": [
       "<div>\n",
       "<style scoped>\n",
       "    .dataframe tbody tr th:only-of-type {\n",
       "        vertical-align: middle;\n",
       "    }\n",
       "\n",
       "    .dataframe tbody tr th {\n",
       "        vertical-align: top;\n",
       "    }\n",
       "\n",
       "    .dataframe thead th {\n",
       "        text-align: right;\n",
       "    }\n",
       "</style>\n",
       "<table border=\"1\" class=\"dataframe\">\n",
       "  <thead>\n",
       "    <tr style=\"text-align: right;\">\n",
       "      <th></th>\n",
       "      <th>Item</th>\n",
       "      <th>Quantity</th>\n",
       "    </tr>\n",
       "  </thead>\n",
       "  <tbody>\n",
       "    <tr>\n",
       "      <th>4</th>\n",
       "      <td>Salad</td>\n",
       "      <td>1457.0</td>\n",
       "    </tr>\n",
       "    <tr>\n",
       "      <th>5</th>\n",
       "      <td>Sandwich</td>\n",
       "      <td>1432.0</td>\n",
       "    </tr>\n",
       "    <tr>\n",
       "      <th>3</th>\n",
       "      <td>Juice</td>\n",
       "      <td>1407.0</td>\n",
       "    </tr>\n",
       "    <tr>\n",
       "      <th>2</th>\n",
       "      <td>Cookie</td>\n",
       "      <td>1382.0</td>\n",
       "    </tr>\n",
       "    <tr>\n",
       "      <th>0</th>\n",
       "      <td>Cake</td>\n",
       "      <td>1361.0</td>\n",
       "    </tr>\n",
       "    <tr>\n",
       "      <th>7</th>\n",
       "      <td>Tea</td>\n",
       "      <td>1331.0</td>\n",
       "    </tr>\n",
       "    <tr>\n",
       "      <th>1</th>\n",
       "      <td>Coffee</td>\n",
       "      <td>1298.0</td>\n",
       "    </tr>\n",
       "    <tr>\n",
       "      <th>6</th>\n",
       "      <td>Smoothie</td>\n",
       "      <td>1200.0</td>\n",
       "    </tr>\n",
       "  </tbody>\n",
       "</table>\n",
       "</div>"
      ],
      "text/plain": [
       "       Item  Quantity\n",
       "4     Salad    1457.0\n",
       "5  Sandwich    1432.0\n",
       "3     Juice    1407.0\n",
       "2    Cookie    1382.0\n",
       "0      Cake    1361.0\n",
       "7       Tea    1331.0\n",
       "1    Coffee    1298.0\n",
       "6  Smoothie    1200.0"
      ]
     },
     "execution_count": 31,
     "metadata": {},
     "output_type": "execute_result"
    }
   ],
   "source": [
    "most_orderd_item = df.groupby('Item')[['Quantity']].sum().round().reset_index()\n",
    "most_orderd_item = most_orderd_item.sort_values(by=\"Quantity\",ascending=False)\n",
    "most_orderd_item"
   ]
  },
  {
   "cell_type": "code",
   "execution_count": 32,
   "id": "321a3788",
   "metadata": {
    "execution": {
     "iopub.execute_input": "2025-04-28T11:42:30.456068Z",
     "iopub.status.busy": "2025-04-28T11:42:30.455647Z",
     "iopub.status.idle": "2025-04-28T11:42:30.676061Z",
     "shell.execute_reply": "2025-04-28T11:42:30.674979Z"
    },
    "papermill": {
     "duration": 0.233125,
     "end_time": "2025-04-28T11:42:30.678419",
     "exception": false,
     "start_time": "2025-04-28T11:42:30.445294",
     "status": "completed"
    },
    "tags": []
   },
   "outputs": [
    {
     "data": {
      "image/png": "[encoded data removed]",
      "text/plain": [
       "<Figure size 1000x800 with 1 Axes>"
      ]
     },
     "metadata": {},
     "output_type": "display_data"
    }
   ],
   "source": [
    "# Set figure size\n",
    "plt.figure(figsize=(10, 8))\n",
    "\n",
    "# 🎨 Custom Fancy Color Palette (looks beautiful and professional)\n",
    "colors = [\"#FF6F61\", \"#6B5B95\", \"#88B04B\", \"#F7CAC9\", \"#92A8D1\", \"#955251\", \"#009B77\", \"#DD4124\", \"#D65076\", \"#45B8AC\"]\n",
    "\n",
    "# Set explode for largest slice (to highlight highest Quantity)\n",
    "explode = [0.1 if x == most_orderd_item['Quantity'].max() else 0 for x in most_orderd_item['Quantity']]\n",
    "\n",
    "# Create Pie Chart\n",
    "plt.pie(\n",
    "    most_orderd_item['Quantity'],\n",
    "    labels=most_orderd_item['Item'],\n",
    "    autopct='%1.1f%%',\n",
    "    colors=colors[:len(most_orderd_item)],  # pick only needed colors\n",
    "    explode=explode,\n",
    "    startangle=140,\n",
    "    shadow=True,\n",
    "    wedgeprops={'edgecolor': 'black', 'linewidth': 1}\n",
    ")\n",
    "\n",
    "# Add a nice title\n",
    "plt.title('Most Ordered Items - Fancy Design', fontsize=18, fontweight='bold', color='#333333')\n",
    "\n",
    "# Display the plot\n",
    "plt.show()"
   ]
  },
  {
   "cell_type": "markdown",
   "id": "c837c6f4",
   "metadata": {
    "papermill": {
     "duration": 0.011721,
     "end_time": "2025-04-28T11:42:30.702229",
     "exception": false,
     "start_time": "2025-04-28T11:42:30.690508",
     "status": "completed"
    },
    "tags": []
   },
   "source": [
    "# Highest sales volume by day of the week"
   ]
  },
  {
   "cell_type": "code",
   "execution_count": 33,
   "id": "4839185e",
   "metadata": {
    "execution": {
     "iopub.execute_input": "2025-04-28T11:42:30.726304Z",
     "iopub.status.busy": "2025-04-28T11:42:30.725980Z",
     "iopub.status.idle": "2025-04-28T11:42:30.743757Z",
     "shell.execute_reply": "2025-04-28T11:42:30.742817Z"
    },
    "papermill": {
     "duration": 0.031696,
     "end_time": "2025-04-28T11:42:30.745412",
     "exception": false,
     "start_time": "2025-04-28T11:42:30.713716",
     "status": "completed"
    },
    "tags": []
   },
   "outputs": [
    {
     "data": {
      "text/html": [
       "<div>\n",
       "<style scoped>\n",
       "    .dataframe tbody tr th:only-of-type {\n",
       "        vertical-align: middle;\n",
       "    }\n",
       "\n",
       "    .dataframe tbody tr th {\n",
       "        vertical-align: top;\n",
       "    }\n",
       "\n",
       "    .dataframe thead th {\n",
       "        text-align: right;\n",
       "    }\n",
       "</style>\n",
       "<table border=\"1\" class=\"dataframe\">\n",
       "  <thead>\n",
       "    <tr style=\"text-align: right;\">\n",
       "      <th></th>\n",
       "      <th>day_name</th>\n",
       "      <th>Total Spent</th>\n",
       "    </tr>\n",
       "  </thead>\n",
       "  <tbody>\n",
       "    <tr>\n",
       "      <th>4</th>\n",
       "      <td>Thursday</td>\n",
       "      <td>4651.0</td>\n",
       "    </tr>\n",
       "    <tr>\n",
       "      <th>3</th>\n",
       "      <td>Sunday</td>\n",
       "      <td>4564.0</td>\n",
       "    </tr>\n",
       "    <tr>\n",
       "      <th>1</th>\n",
       "      <td>Monday</td>\n",
       "      <td>4527.5</td>\n",
       "    </tr>\n",
       "    <tr>\n",
       "      <th>5</th>\n",
       "      <td>Tuesday</td>\n",
       "      <td>4357.5</td>\n",
       "    </tr>\n",
       "    <tr>\n",
       "      <th>0</th>\n",
       "      <td>Friday</td>\n",
       "      <td>4278.5</td>\n",
       "    </tr>\n",
       "    <tr>\n",
       "      <th>2</th>\n",
       "      <td>Saturday</td>\n",
       "      <td>4252.0</td>\n",
       "    </tr>\n",
       "    <tr>\n",
       "      <th>6</th>\n",
       "      <td>Wednesday</td>\n",
       "      <td>3969.0</td>\n",
       "    </tr>\n",
       "  </tbody>\n",
       "</table>\n",
       "</div>"
      ],
      "text/plain": [
       "    day_name  Total Spent\n",
       "4   Thursday       4651.0\n",
       "3     Sunday       4564.0\n",
       "1     Monday       4527.5\n",
       "5    Tuesday       4357.5\n",
       "0     Friday       4278.5\n",
       "2   Saturday       4252.0\n",
       "6  Wednesday       3969.0"
      ]
     },
     "execution_count": 33,
     "metadata": {},
     "output_type": "execute_result"
    }
   ],
   "source": [
    "df[\"month_name\"] = df['Transaction Date'].dt.month_name()\n",
    "df[\"day_name\"] = df['Transaction Date'].dt.day_name()\n",
    "\n",
    "\n",
    "sales_by_day = df.groupby(df['day_name'])['Total Spent'].sum().round(1).reset_index()\n",
    "sales_by_day = sales_by_day.sort_values(by=\"Total Spent\",ascending=False)\n",
    "sales_by_day"
   ]
  },
  {
   "cell_type": "markdown",
   "id": "a2f8acb3",
   "metadata": {
    "papermill": {
     "duration": 0.011845,
     "end_time": "2025-04-28T11:42:30.769353",
     "exception": false,
     "start_time": "2025-04-28T11:42:30.757508",
     "status": "completed"
    },
    "tags": []
   },
   "source": [
    "# Thank you!"
   ]
  }
 ],
 "metadata": {
  "kaggle": {
   "accelerator": "none",
   "dataSources": [
    {
     "datasetId": 6501209,
     "sourceId": 10500284,
     "sourceType": "datasetVersion"
    }
   ],
   "dockerImageVersionId": 31012,
   "isGpuEnabled": false,
   "isInternetEnabled": true,
   "language": "python",
   "sourceType": "notebook"
  },
  "kernelspec": {
   "display_name": "Python 3",
   "language": "python",
   "name": "python3"
  },
  "language_info": {
   "codemirror_mode": {
    "name": "ipython",
    "version": 3
   },
   "file_extension": ".py",
   "mimetype": "text/x-python",
   "name": "python",
   "nbconvert_exporter": "python",
   "pygments_lexer": "ipython3",
   "version": "3.11.11"
  },
  "papermill": {
   "default_parameters": {},
   "duration": 11.380031,
   "end_time": "2025-04-28T11:42:31.501193",
   "environment_variables": {},
   "exception": null,
   "input_path": "__notebook__.ipynb",
   "output_path": "__notebook__.ipynb",
   "parameters": {},
   "start_time": "2025-04-28T11:42:20.121162",
   "version": "2.6.0"
  }
 },
 "nbformat": 4,
 "nbformat_minor": 5
}
